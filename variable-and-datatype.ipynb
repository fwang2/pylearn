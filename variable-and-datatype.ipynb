{
 "cells": [
  {
   "cell_type": "markdown",
   "metadata": {},
   "source": [
    "# Variable\n",
    "\n",
    "A variable has 4 things to know:\n",
    "* it has a name\n",
    "* it has a value\n",
    "* it has a type\n",
    "* it can change\n",
    "\n",
    "For example:\n",
    "\n",
    "    x = 4\n",
    "    print(x) --> 4\n",
    "    x = 5\n",
    "    print(x) --> 5\n",
    "    \n",
    "A variable is a placeholder for stuff you want to use later. "
   ]
  },
  {
   "cell_type": "markdown",
   "metadata": {},
   "source": [
    "## Valid variable name\n",
    "\n",
    "Not all names are valid for variable names:\n",
    "* it starts with either a letter or a underscore\n",
    "* it can't have - or spaces\n",
    "\n",
    "For example:\n",
    "\n",
    "    1grade = 72     # invalid: starting with a number\n",
    "    grade1 = 72     # valid\n",
    "    grade_1 = 72    # valid\n",
    "    grade-1 = 72    # invalid\n",
    "    grade 1 = 72    # invalid\n",
    "    \n",
    "As you gain more experience, valid variable name is not enough, you want to give it a **meanful** and **concise** name, which is often not easy."
   ]
  },
  {
   "cell_type": "markdown",
   "metadata": {},
   "source": [
    "## Valid variable value\n",
    "\n",
    "A python variable can hold different value, and value has **type**.\n",
    "\n",
    "    x = 3               --> type of integer\n",
    "    x = 3.3             --> type of float\n",
    "    x = \"hello world\"   --> type of str\n",
    "    x = ['apple', 'orange', 'banana'] --> type of list\n",
    "\n",
    "\n",
    "To know which type of the variable:\n",
    "\n",
    "    type(x)\n"
   ]
  },
  {
   "cell_type": "markdown",
   "metadata": {},
   "source": [
    "# Simple Data Type\n",
    "\n",
    "* integer, such as 1, 100, 1000\n",
    "* float, such as 2.3\n",
    "* string, such as \"Hello world\" or 'Hello World'\n",
    "\n",
    "You can mix integer and float for arithematic operations, but you can't mix float or integer with string. To do that, you need to convert:\n",
    "\n",
    "    x = 3\n",
    "    y = \"hello world\"\n",
    "    x + y              # wrong\n",
    "    str(x) + y         # ok\n",
    "    \n",
    " \n"
   ]
  },
  {
   "cell_type": "markdown",
   "metadata": {},
   "source": [
    "# Expression and Statement\n",
    "\n",
    "Just as you write essay with sentences, you write computer programs with **expression** and **statement**.\n",
    "\n",
    "    x = 3\n",
    "    y = 4.0\n",
    "    x + y        # this is expression\n",
    "    z = x + y    # this is statement\n"
   ]
  },
  {
   "cell_type": "markdown",
   "metadata": {},
   "source": [
    "# Input and Output\n",
    "\n",
    "\n",
    "To read from keyboard: \n",
    "\n",
    "    name = input(\"Please your name? \")\n",
    "\n",
    "To output on the screen:\n",
    "\n",
    "    print(\"hello \" + \"world \" + \" to \" + name)\n",
    "   "
   ]
  },
  {
   "cell_type": "code",
   "execution_count": null,
   "metadata": {},
   "outputs": [],
   "source": []
  }
 ],
 "metadata": {
  "kernelspec": {
   "display_name": "Python 3",
   "language": "python",
   "name": "python3"
  },
  "language_info": {
   "codemirror_mode": {
    "name": "ipython",
    "version": 3
   },
   "file_extension": ".py",
   "mimetype": "text/x-python",
   "name": "python",
   "nbconvert_exporter": "python",
   "pygments_lexer": "ipython3",
   "version": "3.7.3"
  }
 },
 "nbformat": 4,
 "nbformat_minor": 2
}
