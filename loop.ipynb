{
 "cells": [
  {
   "cell_type": "markdown",
   "metadata": {},
   "source": [
    "# Loop statement\n",
    "\n",
    "A \"loop\" is a way to do something repeatedly.\n",
    "\n",
    "There are two kinds of loop statement we need to know\n",
    "* FOR loop\n",
    "* WHILE loop\n"
   ]
  },
  {
   "cell_type": "markdown",
   "metadata": {},
   "source": [
    "## for loop"
   ]
  },
  {
   "cell_type": "code",
   "execution_count": 1,
   "metadata": {},
   "outputs": [
    {
     "name": "stdout",
     "output_type": "stream",
     "text": [
      "1\n",
      "2\n",
      "6\n",
      "7\n"
     ]
    }
   ],
   "source": [
    "for x in [1, 2, 6, 7]:\n",
    "    print(x)\n"
   ]
  },
  {
   "cell_type": "code",
   "execution_count": 2,
   "metadata": {},
   "outputs": [
    {
     "name": "stdout",
     "output_type": "stream",
     "text": [
      "0\n",
      "1\n",
      "2\n",
      "3\n",
      "4\n"
     ]
    }
   ],
   "source": [
    "for x in range(5):\n",
    "    print(x)"
   ]
  },
  {
   "cell_type": "markdown",
   "metadata": {},
   "source": [
    "## while loop\n",
    "\n",
    "while loop is used when you want to repeat things only when certain condition is met.\n",
    "\n"
   ]
  },
  {
   "cell_type": "code",
   "execution_count": 5,
   "metadata": {},
   "outputs": [
    {
     "name": "stdout",
     "output_type": "stream",
     "text": [
      "ready:  10\n",
      "ready:  9\n",
      "ready:  8\n",
      "ready:  7\n",
      "ready:  6\n",
      "ready:  5\n",
      "ready:  4\n",
      "ready:  3\n",
      "ready:  2\n",
      "ready:  1\n",
      "launch the rocket\n"
     ]
    }
   ],
   "source": [
    "import time\n",
    "\n",
    "countdown = 10\n",
    "while countdown > 0:\n",
    "    print(\"ready: \", countdown)\n",
    "    time.sleep(1)\n",
    "    countdown = countdown - 1\n",
    "\n",
    "print(\"launch the rocket\")"
   ]
  },
  {
   "cell_type": "code",
   "execution_count": null,
   "metadata": {},
   "outputs": [],
   "source": []
  }
 ],
 "metadata": {
  "kernelspec": {
   "display_name": "Python 3",
   "language": "python",
   "name": "python3"
  },
  "language_info": {
   "codemirror_mode": {
    "name": "ipython",
    "version": 3
   },
   "file_extension": ".py",
   "mimetype": "text/x-python",
   "name": "python",
   "nbconvert_exporter": "python",
   "pygments_lexer": "ipython3",
   "version": "3.7.1"
  }
 },
 "nbformat": 4,
 "nbformat_minor": 2
}
