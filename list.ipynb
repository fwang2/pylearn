{
 "cells": [
  {
   "cell_type": "markdown",
   "metadata": {},
   "source": [
    "# List\n",
    "\n",
    "\n",
    "We have learned a variable has types. Simple type include\n",
    "* None\n",
    "* boolean\n",
    "* integer\n",
    "* float\n",
    "* string\n",
    "\n",
    "Now we learn another type: a list. It is not *simple* in the sense that a list is composed by simple types: A list is a collection of things in particular order.\n",
    "\n",
    "With a list:\n",
    "* you can put things into a list\n",
    "* you can remove from a list\n",
    "* you can slice a list to get a portion of it etc.\n",
    "\n"
   ]
  },
  {
   "cell_type": "markdown",
   "metadata": {},
   "source": [
    "## Create new/empty list\n",
    "\n",
    "List is denoted by `[ ... ]`."
   ]
  },
  {
   "cell_type": "code",
   "execution_count": 4,
   "metadata": {},
   "outputs": [
    {
     "data": {
      "text/plain": [
       "True"
      ]
     },
     "execution_count": 4,
     "metadata": {},
     "output_type": "execute_result"
    }
   ],
   "source": [
    "names = []\n",
    "len(names) == 0"
   ]
  },
  {
   "cell_type": "code",
   "execution_count": 6,
   "metadata": {},
   "outputs": [
    {
     "data": {
      "text/plain": [
       "['qiqi', 'yangyang', 'mom', 'dad']"
      ]
     },
     "execution_count": 6,
     "metadata": {},
     "output_type": "execute_result"
    }
   ],
   "source": [
    "names = ['qiqi', 'yangyang', 'mom', 'dad']\n",
    "names\n"
   ]
  },
  {
   "cell_type": "markdown",
   "metadata": {},
   "source": [
    "## Read any element in a list\n",
    "\n",
    "Each element in a list has a position index (hidden), starting with 0."
   ]
  },
  {
   "cell_type": "code",
   "execution_count": 2,
   "metadata": {},
   "outputs": [
    {
     "name": "stdout",
     "output_type": "stream",
     "text": [
      "qiqi\n"
     ]
    }
   ],
   "source": [
    "print(names[0])"
   ]
  },
  {
   "cell_type": "code",
   "execution_count": 3,
   "metadata": {},
   "outputs": [
    {
     "name": "stdout",
     "output_type": "stream",
     "text": [
      "dad\n"
     ]
    }
   ],
   "source": [
    "print(names[3])"
   ]
  },
  {
   "cell_type": "code",
   "execution_count": 4,
   "metadata": {},
   "outputs": [
    {
     "ename": "IndexError",
     "evalue": "list index out of range",
     "output_type": "error",
     "traceback": [
      "---------------------------------------------------------------------------",
      "IndexError                                Traceback (most recent call last)",
      "<ipython-input-4-9256a21a3a3f> in <module>\n----> 1 print(names[4])\n",
      "IndexError: list index out of range"
     ]
    }
   ],
   "source": [
    "print(names[4])"
   ]
  },
  {
   "cell_type": "markdown",
   "metadata": {},
   "source": [
    "## Read last element in a list"
   ]
  },
  {
   "cell_type": "code",
   "execution_count": 5,
   "metadata": {},
   "outputs": [
    {
     "data": {
      "text/plain": [
       "'dad'"
      ]
     },
     "execution_count": 5,
     "metadata": {},
     "output_type": "execute_result"
    }
   ],
   "source": [
    "names[-1]"
   ]
  },
  {
   "cell_type": "code",
   "execution_count": 8,
   "metadata": {},
   "outputs": [
    {
     "data": {
      "text/plain": [
       "'mom'"
      ]
     },
     "execution_count": 8,
     "metadata": {},
     "output_type": "execute_result"
    }
   ],
   "source": [
    "names[-2]"
   ]
  },
  {
   "cell_type": "code",
   "execution_count": 14,
   "metadata": {},
   "outputs": [
    {
     "data": {
      "text/plain": [
       "['mom']"
      ]
     },
     "execution_count": 14,
     "metadata": {},
     "output_type": "execute_result"
    }
   ],
   "source": [
    "names[2:3]"
   ]
  },
  {
   "cell_type": "markdown",
   "metadata": {},
   "source": [
    "## Change, add, remove element from a list"
   ]
  },
  {
   "cell_type": "code",
   "execution_count": 6,
   "metadata": {},
   "outputs": [
    {
     "data": {
      "text/plain": [
       "['rachel.wang', 'yangyang', 'mom', 'dad']"
      ]
     },
     "execution_count": 6,
     "metadata": {},
     "output_type": "execute_result"
    }
   ],
   "source": [
    "names[0] = 'rachel.wang'\n",
    "names"
   ]
  },
  {
   "cell_type": "code",
   "execution_count": 7,
   "metadata": {},
   "outputs": [
    {
     "data": {
      "text/plain": [
       "['rachel.wang', 'yangyang', 'mom', 'dad', 'jingo']"
      ]
     },
     "execution_count": 7,
     "metadata": {},
     "output_type": "execute_result"
    }
   ],
   "source": [
    "# add to the last\n",
    "names.append('jingo')\n",
    "names"
   ]
  },
  {
   "cell_type": "code",
   "execution_count": 8,
   "metadata": {},
   "outputs": [
    {
     "data": {
      "text/plain": [
       "['rachel.wang', 'yangyang', 'mom', 'dad']"
      ]
     },
     "execution_count": 8,
     "metadata": {},
     "output_type": "execute_result"
    }
   ],
   "source": [
    "# remove by value\n",
    "names.remove('jingo')\n",
    "names"
   ]
  },
  {
   "cell_type": "code",
   "execution_count": 15,
   "metadata": {},
   "outputs": [
    {
     "data": {
      "text/plain": [
       "['qiqi', 'yangyang', 'jingo', 'mom', 'dad']"
      ]
     },
     "execution_count": 15,
     "metadata": {},
     "output_type": "execute_result"
    }
   ],
   "source": [
    "names.insert(2, 'jingo')\n",
    "names"
   ]
  },
  {
   "cell_type": "code",
   "execution_count": 18,
   "metadata": {},
   "outputs": [
    {
     "data": {
      "text/plain": [
       "['yangyang', 'jingo', 'mom', 'dad']"
      ]
     },
     "execution_count": 18,
     "metadata": {},
     "output_type": "execute_result"
    }
   ],
   "source": [
    "names"
   ]
  },
  {
   "cell_type": "code",
   "execution_count": 19,
   "metadata": {},
   "outputs": [
    {
     "data": {
      "text/plain": [
       "['yangyang', 'jingo', 'mom']"
      ]
     },
     "execution_count": 19,
     "metadata": {},
     "output_type": "execute_result"
    }
   ],
   "source": [
    "del names[3]\n",
    "names"
   ]
  },
  {
   "cell_type": "code",
   "execution_count": 20,
   "metadata": {},
   "outputs": [
    {
     "name": "stdout",
     "output_type": "stream",
     "text": [
      "removed element is:  mom\n"
     ]
    },
    {
     "data": {
      "text/plain": [
       "['yangyang', 'jingo']"
      ]
     },
     "execution_count": 20,
     "metadata": {},
     "output_type": "execute_result"
    }
   ],
   "source": [
    "# remove last element from the list\n",
    "ele = names.pop(2)\n",
    "print(\"removed element is: \", ele)\n",
    "names"
   ]
  },
  {
   "cell_type": "code",
   "execution_count": 12,
   "metadata": {},
   "outputs": [
    {
     "data": {
      "text/plain": [
       "['yangyang', 'mom']"
      ]
     },
     "execution_count": 12,
     "metadata": {},
     "output_type": "execute_result"
    }
   ],
   "source": [
    "# remove any element from list\n",
    "ele = names.pop(0)\n",
    "names"
   ]
  },
  {
   "cell_type": "markdown",
   "metadata": {},
   "source": [
    "## Find the length of the list\n"
   ]
  },
  {
   "cell_type": "code",
   "execution_count": 13,
   "metadata": {},
   "outputs": [
    {
     "data": {
      "text/plain": [
       "2"
      ]
     },
     "execution_count": 13,
     "metadata": {},
     "output_type": "execute_result"
    }
   ],
   "source": [
    "len(names)"
   ]
  },
  {
   "cell_type": "markdown",
   "metadata": {},
   "source": [
    "## Loop through a list\n",
    "\n",
    "Often, we want to iterate or loop through **each element** in the list and do something about it. For example:\n",
    "* find out min value\n",
    "* find out max value\n",
    "* calculate the sum\n",
    "* calculate the average\n",
    "\n",
    "Anway - to loop through element in a list, we use, ... **for** loop as shown below"
   ]
  },
  {
   "cell_type": "code",
   "execution_count": 22,
   "metadata": {},
   "outputs": [
    {
     "name": "stdout",
     "output_type": "stream",
     "text": [
      "yangyang\n",
      "jingo\n",
      "That is all we have\n"
     ]
    }
   ],
   "source": [
    "for wang_family_member in names:\n",
    "    print(wang_family_member)\n",
    "\n",
    "print(\"That is all we have\")"
   ]
  },
  {
   "cell_type": "markdown",
   "metadata": {},
   "source": [
    "\n",
    "## What does for loop really do?\n",
    "\n",
    "Above code essentially are translated into the following sequential code:\n",
    "```python\n",
    "wang_family_member = \"yangyang\"\n",
    "print(wang_family_member)\n",
    "wang_family_member = \"mom\"\n",
    "print(wang_family_member)\n",
    "print(\"That is all we have\")\n",
    "```\n",
    "\n",
    "The point is, it doesn't matter how many elements in the list, for loop will iterate each and every one of them with just these two lines.\n",
    "\n",
    "`for` and `in` are reserved word.\n",
    "\n"
   ]
  },
  {
   "cell_type": "markdown",
   "metadata": {},
   "source": [
    "## Code block and identions\n",
    "\n",
    "Now we talk about the basic of for loop, it is a good time to know aobut **code block** and idention rules: python pays great attention to how you indent your code. If you miss-indent, it will complain. Even worse, it doesn't do what you intended. For example:\n",
    "\n",
    "```python\n",
    "for wang_family_member in names:\n",
    "    print(wang_family_member)\n",
    "    print(\"That is all we have\")\n",
    "```\n",
    "\n",
    "Another example, tell me what will happen here?\n",
    "\n",
    "```python\n",
    "message = \"hello world\"\n",
    "    print(message)\n",
    "```\n",
    "\n"
   ]
  },
  {
   "cell_type": "code",
   "execution_count": 23,
   "metadata": {},
   "outputs": [
    {
     "name": "stdout",
     "output_type": "stream",
     "text": [
      "yangyang\n",
      "That is all we have\n",
      "jingo\n",
      "That is all we have\n"
     ]
    }
   ],
   "source": [
    "for wang_family_member in names:\n",
    "    print(wang_family_member)\n",
    "    print(\"That is all we have\")"
   ]
  },
  {
   "cell_type": "code",
   "execution_count": 25,
   "metadata": {},
   "outputs": [
    {
     "name": "stdout",
     "output_type": "stream",
     "text": [
      "hello world\n"
     ]
    }
   ],
   "source": [
    "message = \"hello world\"\n",
    "print(message)"
   ]
  },
  {
   "cell_type": "markdown",
   "metadata": {},
   "source": [
    "## The colon after the for\n",
    "\n",
    "Also, pay attention to the colon after the `for wang_family_member in names:`. This colon tells for loop that the next line will be the start of the loop.\n"
   ]
  },
  {
   "cell_type": "markdown",
   "metadata": {},
   "source": [
    "## Quick Exercises 1\n",
    "\n",
    "* Think of a list of animals you like, put them in a list, and print them out one by one.\n",
    "* Add a line at the very end, print out a line to tell which one is your favorite.\n"
   ]
  },
  {
   "cell_type": "code",
   "execution_count": 22,
   "metadata": {},
   "outputs": [
    {
     "name": "stdout",
     "output_type": "stream",
     "text": [
      "This list does not have my favorite animals.\n"
     ]
    }
   ],
   "source": [
    "fav_animals = ['tigers', 'horses', 'Dogs', 'peacocks', 'dolphins', 'leopards', 'foxes']\n",
    "fav_found = False\n",
    "for my_favorite in fav_animals:\n",
    "    if my_favorite == 'Eagles':\n",
    "        fav_found = True\n",
    "        print(my_favorite, \"are my favorite animal\")\n",
    "\n",
    "if fav_found == False:\n",
    "    print(\"This list does not have my favorite animals.\")\n",
    "        \n",
    "        "
   ]
  },
  {
   "cell_type": "markdown",
   "metadata": {},
   "source": [
    "## range() function\n",
    "\n",
    "often, we want to do certain things in fixed number times. For example, you want to shout out \"I love you\" five times, exact. So python provides a easy way of doing this: that generate a numerical list:"
   ]
  },
  {
   "cell_type": "code",
   "execution_count": 13,
   "metadata": {},
   "outputs": [
    {
     "data": {
      "text/plain": [
       "[1, 2, 3, 4, 5]"
      ]
     },
     "execution_count": 13,
     "metadata": {},
     "output_type": "execute_result"
    }
   ],
   "source": [
    "list(range(1,6))"
   ]
  },
  {
   "cell_type": "code",
   "execution_count": 9,
   "metadata": {},
   "outputs": [
    {
     "name": "stdout",
     "output_type": "stream",
     "text": [
      "1\n",
      "2\n",
      "3\n",
      "4\n",
      "5\n"
     ]
    }
   ],
   "source": [
    "# to loop 5 times exact:\n",
    "for i in range(1,6):\n",
    "    print(i)"
   ]
  },
  {
   "cell_type": "code",
   "execution_count": 13,
   "metadata": {},
   "outputs": [
    {
     "name": "stdout",
     "output_type": "stream",
     "text": [
      "[2, 4, 6, 8, 10]\n"
     ]
    }
   ],
   "source": [
    "# generate a list a even number between up to 10\n",
    "even_numbers = list(range(2,11,2))\n",
    "print(even_numbers)"
   ]
  },
  {
   "cell_type": "code",
   "execution_count": 14,
   "metadata": {},
   "outputs": [
    {
     "name": "stdout",
     "output_type": "stream",
     "text": [
      "[0, 1, 4, 9, 16, 25, 36, 49, 64, 81, 100, 121, 144, 169, 196, 225, 256, 289, 324, 361, 400]\n"
     ]
    }
   ],
   "source": [
    "# calculate square numbers up to 20\n",
    "squares = []\n",
    "for i in range(21):\n",
    "    squares.append(i**2)\n",
    "\n",
    "print(squares)"
   ]
  },
  {
   "cell_type": "markdown",
   "metadata": {},
   "source": [
    "## Quick exercises 2\n",
    "\n",
    "\n",
    "#1 Generate a list of numbers from 1 to one million\n",
    "\n",
    "#2 Generate a list of cube numbers for 1 to 10 (a cube number is a number raised to the power of 3)\n",
    "\n"
   ]
  },
  {
   "cell_type": "markdown",
   "metadata": {},
   "source": [
    "## Working with part of the list\n",
    "\n",
    "You don't have to work with the whole list: a list can be *sliced*.\n"
   ]
  },
  {
   "cell_type": "code",
   "execution_count": 19,
   "metadata": {},
   "outputs": [
    {
     "name": "stdout",
     "output_type": "stream",
     "text": [
      "[44 47 64 67 67  9 83 21 36 87 70 88 88 12 58 65 39 87 46 88 81 37 25 77\n",
      " 72  9 20 80 69 79 47 64 82 99 88 49 29 19 19 14 39 32 65  9 57 32 31 74\n",
      " 23 35]\n"
     ]
    }
   ],
   "source": [
    "import numpy as np\n",
    "np.random.seed(0)\n",
    "numbers = np.random.randint(0, 100, 50)\n",
    "print(numbers)\n"
   ]
  },
  {
   "cell_type": "code",
   "execution_count": 20,
   "metadata": {},
   "outputs": [
    {
     "data": {
      "text/plain": [
       "array([44, 47, 64])"
      ]
     },
     "execution_count": 20,
     "metadata": {},
     "output_type": "execute_result"
    }
   ],
   "source": [
    "# first 3 elements\n",
    "numbers[0:3]\n"
   ]
  },
  {
   "cell_type": "code",
   "execution_count": 23,
   "metadata": {},
   "outputs": [
    {
     "data": {
      "text/plain": [
       "array([31, 74, 23, 35])"
      ]
     },
     "execution_count": 23,
     "metadata": {},
     "output_type": "execute_result"
    }
   ],
   "source": [
    "# last 4 elements\n",
    "numbers[-4:]"
   ]
  },
  {
   "cell_type": "code",
   "execution_count": 24,
   "metadata": {},
   "outputs": [
    {
     "data": {
      "text/plain": [
       "array([67,  9, 83, 21, 36, 87, 70, 88, 88, 12, 58, 65, 39, 87, 46, 88, 81,\n",
       "       37, 25, 77, 72,  9, 20, 80, 69, 79, 47, 64, 82, 99, 88, 49, 29, 19,\n",
       "       19, 14, 39, 32, 65,  9, 57, 32, 31, 74, 23, 35])"
      ]
     },
     "execution_count": 24,
     "metadata": {},
     "output_type": "execute_result"
    }
   ],
   "source": [
    "# middle from index 4 to end\n",
    "numbers[4:]"
   ]
  },
  {
   "cell_type": "markdown",
   "metadata": {},
   "source": [
    "## Copy a list\n",
    "\n",
    "you can create a copy of the list by:\n"
   ]
  },
  {
   "cell_type": "code",
   "execution_count": 26,
   "metadata": {},
   "outputs": [
    {
     "name": "stdout",
     "output_type": "stream",
     "text": [
      "original =  [2.3, 3.5, 8.9]\n",
      "new_list =  [2.3, 3.5, 8.9]\n"
     ]
    }
   ],
   "source": [
    "original = [2.3, 3.5, 8.9]\n",
    "new_list = original[:]\n",
    "print(\"original = \", original)\n",
    "print(\"new_list = \", new_list)"
   ]
  },
  {
   "cell_type": "code",
   "execution_count": 27,
   "metadata": {},
   "outputs": [
    {
     "name": "stdout",
     "output_type": "stream",
     "text": [
      "original =  [2.3, 3.5, 8.9, 10]\n",
      "new_list =  [2.3, 3.5, 8.9]\n"
     ]
    }
   ],
   "source": [
    "original.append(10)\n",
    "print(\"original = \", original)\n",
    "print(\"new_list = \", new_list)"
   ]
  },
  {
   "cell_type": "code",
   "execution_count": null,
   "metadata": {},
   "outputs": [],
   "source": []
  }
 ],
 "metadata": {
  "kernelspec": {
   "display_name": "Python 3",
   "language": "python",
   "name": "python3"
  },
  "language_info": {
   "codemirror_mode": {
    "name": "ipython",
    "version": 3
   },
   "file_extension": ".py",
   "mimetype": "text/x-python",
   "name": "python",
   "nbconvert_exporter": "python",
   "pygments_lexer": "ipython3",
   "version": "3.7.1"
  }
 },
 "nbformat": 4,
 "nbformat_minor": 4
}
