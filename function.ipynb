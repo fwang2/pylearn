{
 "cells": [
  {
   "cell_type": "markdown",
   "metadata": {},
   "source": [
    "# Function\n",
    "\n",
    "A function:\n",
    "\n",
    "* has a name, known as **function name**\n",
    "* has zero or more inputs, known as **input parameters**\n",
    "* does something useful, known as **function body**\n",
    "* have a return, known as **return value**\n",
    "\n",
    "\n",
    "To implement a function, you need to:\n",
    "* **define** it first\n",
    "* **invoke** it later\n",
    "\n"
   ]
  },
  {
   "cell_type": "markdown",
   "metadata": {},
   "source": [
    "## A simple function example\n",
    "\n",
    "The following example define a function that:\n",
    "* we name it `odd_numbers`\n",
    "* it takes one input variable: `alist`\n",
    "* it return one output variable: `nlist`\n",
    "* it does something useful: return only the odd numbers in the list"
   ]
  },
  {
   "cell_type": "code",
   "execution_count": 1,
   "metadata": {},
   "outputs": [],
   "source": [
    "def oddname(alist):\n",
    "    nlist = []\n",
    "    for i in alist:\n",
    "        if i%2 != 0:\n",
    "            nlist.append(i)\n",
    "    \n",
    "    return nlist"
   ]
  },
  {
   "cell_type": "markdown",
   "metadata": {},
   "source": [
    "Above is only the **definition**. To use this function, we need to invoke it:"
   ]
  },
  {
   "cell_type": "code",
   "execution_count": 2,
   "metadata": {},
   "outputs": [
    {
     "name": "stdout",
     "output_type": "stream",
     "text": [
      "[3]\n"
     ]
    }
   ],
   "source": [
    "x = oddname([2, 3, 8, 10, 2, 4])\n",
    "print(x)"
   ]
  },
  {
   "cell_type": "code",
   "execution_count": 4,
   "metadata": {},
   "outputs": [
    {
     "name": "stdout",
     "output_type": "stream",
     "text": [
      "[2111, 323, 8311, 103322323, 21, 431]\n"
     ]
    }
   ],
   "source": [
    "x = oddname([2111, 323, 8311, 103322323, 21, 431])\n",
    "print(x)"
   ]
  },
  {
   "cell_type": "markdown",
   "metadata": {},
   "source": [
    "Note here, that we define it **just once**, but we can use it as many times as needed. That is what make a function useful - it can be **reused**."
   ]
  },
  {
   "cell_type": "markdown",
   "metadata": {},
   "source": [
    "## return multiple values\n",
    "\n",
    "Sometime, it is convenient to return multiple values from a function. For example, inside a loop, you can find out both min and max values of the input (list).\n"
   ]
  },
  {
   "cell_type": "code",
   "execution_count": null,
   "metadata": {},
   "outputs": [],
   "source": [
    "def min_max(alist):\n",
    "    min = None\n",
    "    max = None\n",
    "    for i in alist:\n",
    "        # find input and output\n",
    "    \n",
    "    # now we want to retur"
   ]
  }
 ],
 "metadata": {
  "kernelspec": {
   "display_name": "Python 3",
   "language": "python",
   "name": "python3"
  },
  "language_info": {
   "codemirror_mode": {
    "name": "ipython",
    "version": 3
   },
   "file_extension": ".py",
   "mimetype": "text/x-python",
   "name": "python",
   "nbconvert_exporter": "python",
   "pygments_lexer": "ipython3",
   "version": "3.7.3"
  }
 },
 "nbformat": 4,
 "nbformat_minor": 4
}
