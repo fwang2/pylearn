{
 "cells": [
  {
   "cell_type": "markdown",
   "metadata": {},
   "source": [
    "# IF statement\n",
    "\n",
    "most of the time, you want computer to run your program line by line, in so called **sequential** fashion. For example:\n",
    "\n",
    "    print(\"I \", )\n",
    "    print(\"am \", )\n",
    "    print(\"the king of the\", )\n",
    "    print(\"world)\n",
    "\n",
    "However, there are times, you want it to run **different block** of the code based on certain condition. This is done through reserved word `if`, `else`, and `elif`. Let's see how this is done."
   ]
  },
  {
   "cell_type": "markdown",
   "metadata": {},
   "source": [
    "## case 1: just if \n",
    "\n",
    "\n",
    "The most simple structure of if statement: doing something if condition is met, otherwise, continue the original flow.\n",
    "\n",
    "```python\n",
    "qq_score = 98.5\n",
    "if bonus_done:\n",
    "    qq_score = qq_score + 10\n",
    "    print(\"Good job\")\n",
    "print(\"qq's final score = \", qq_score)\n",
    "```\n",
    "\n",
    "There are a few things to note:\n",
    "\n",
    "* the condition part of if statement needs to be ended with colon :\n",
    "* the idented section is *collectively* known as a code block. \n",
    "* the code block is *only run* when the if condition is met\n",
    "* when the condition is not met, then the flow go back the original, sequential fashion.\n",
    "\n"
   ]
  },
  {
   "cell_type": "markdown",
   "metadata": {},
   "source": [
    "## case 2: if else\n",
    "\n",
    "There are cases where you want condition met, do something; condition not met, do something else, then, and only then, go back to original flow.\n",
    "\n",
    "```python\n",
    "num = int(input(\"pick a number: \"))\n",
    "if num % 2 == 0:\n",
    "    print(num, \" is even number\")\n",
    "else:\n",
    "    print(num, \" is odd number\")\n",
    "\n",
    "print(\"Congrats\")\n",
    "```\n",
    "\n",
    "Again, a few things to note:\n",
    "\n",
    "* we have an additonal `else` statement here, again ended with `:`\n",
    "* we want to actions done depending on if condition is met.\n",
    "* only after that, it goes back to original flow and print out the `Congrats`.\n"
   ]
  },
  {
   "cell_type": "markdown",
   "metadata": {},
   "source": [
    "## case 3: if ... elif ... else\n",
    "\n",
    "What happens when you have more than one conditions? then we need the help of `elif` statement.\n",
    "For example:\n",
    "\n",
    "```python\n",
    "score = int(input(\"student's final score: \"))\n",
    "grade = None\n",
    "if score < 60:\n",
    "    grade = \"F\"\n",
    "elif score < 80:\n",
    "    grade = \"C\"\n",
    "elif score < 90:\n",
    "    grade = \"B\"\n",
    "else score < 95:\n",
    "    grade = \"A\"\n",
    "else:\n",
    "    grade = \"A+\"\n",
    "\n",
    "print(\"Final score: \", grade)\n",
    "```\n",
    "\n",
    "Noted:\n",
    "\n",
    "* elif statement ended with colon :\n",
    "* elif statement can have as many conditions as you need\n",
    "* \n",
    "\n"
   ]
  }
 ],
 "metadata": {
  "kernelspec": {
   "display_name": "Python 3",
   "language": "python",
   "name": "python3"
  },
  "language_info": {
   "codemirror_mode": {
    "name": "ipython",
    "version": 3
   },
   "file_extension": ".py",
   "mimetype": "text/x-python",
   "name": "python",
   "nbconvert_exporter": "python",
   "pygments_lexer": "ipython3",
   "version": "3.7.3"
  }
 },
 "nbformat": 4,
 "nbformat_minor": 2
}
